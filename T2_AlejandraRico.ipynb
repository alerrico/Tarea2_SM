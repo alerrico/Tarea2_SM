{
 "cells": [
  {
   "cell_type": "markdown",
   "metadata": {},
   "source": [
    "# Python has brought computer programming to a vast new audience\n",
    "\n",
    "### And its inventor has just stepped down\n",
    "\n",
    "In 1989 Guido van Rossum set himself a project: build his own programming languge. His principles were simple; \n",
    "1. It should be easy to read. \n",
    "2. It should let users create their own packages of special-purpose coding modules. \n",
    "3. He wanted a “short, unique and slightly mysterious” name. He therefore called it after Monty Python, a British comedy group.\n",
    "The package repository became known as the Cheese Shop.\n",
    "\n",
    "The language’s popularity has grown not merely among professional developers but also with ordinary folk. It is thus bringing coding to the fingertips of those once baffled by the subject. Pythonistas have helped by adding more than 145,000 packages to the Cheese Shop, covering everything from astronomy to game development.\n",
    "\n",
    "#### Nobody expects the faddish statistician\n",
    "Python is not perfect. Other languages have more processing efficiency and specialised capabilities. But Python’s killer features—simple syntax that makes its code easy to learn and share, and its huge array of third-party packages—make it a good general-purpose language. Its versatility is shown by its range of users and uses. \n",
    "\n",
    "Some of the most alluring packages that Pythonistas can find in the Cheese Shop harness artificial intelligence (AI). Users can create neural networks, which mimic the connections in a brain, to pick out patterns in large quantities of data. \n",
    "\n",
    "The thirst for these skills is not without risk. Cesar Brea, a partner at Bain & Company, a consultancy, warns that the scariest thing in his trade is “someone who has learned a tool but doesn’t know what is going on under the hood”. Without proper oversight, a novice playing with AI libraries could reach dodgy conclusions. Bernd Ziegler, a partner at Boston Consulting Group, says that his firm reserves such analysis to members of its data team.\n",
    "\n",
    "#### Rossum’s universal robot\n",
    "One solution to the problem of semi-educated tinkerers is to educate them properly in the language’s arcana. Python was already the most popular introductory language at American universities in 2014, but the teaching of it is generally limited to those studying science, technology, engineering and mathematics. A more radical proposal is to catch ’em young by offering computer science to all, and in primary schools. "
   ]
  },
  {
   "cell_type": "markdown",
   "metadata": {},
   "source": [
    "# Programming language of the year? Python is standout in latest rankings\n",
    "\n",
    "### Python consolidates its place as a long-term top-three programming language.\n",
    "\n",
    "Python has cemented its place among the top three most popular programming languages, having seen the largest rise of any language in Tiobe's search engine based rankings. \n",
    "\n",
    "Python gained 3.62 percentage points year over year in Tiobe's January 2019 index, beating rises by Visual Basic .NET and Java, the second and third biggest gainers. Python entered the top three in Tiobe's popularity index in September, thanks to its use in a growing number of fields. \n",
    "\n",
    "It's also the most popular language with hackers, thanks to its easy-to-grasp syntax, broad availability of online tutorials, and an abundance of harmless third-party software libraries that can be repurposed for malicious use.    \n",
    "\n",
    "In Tiobe's index the top 20 languages in descending order for January 2019 were Java, C, **Python**, C++, Visual Basic .NET, JavaScript, C#, PHP, SQL, Objective-C, MATLAB, R, Perl, Assembly language, Swift, Go, Delphi/Object Pascal, Ruby, PL/SQL, and Visual Basic."
   ]
  }
 ],
 "metadata": {
  "kernelspec": {
   "display_name": "Python 3",
   "language": "python",
   "name": "python3"
  },
  "language_info": {
   "codemirror_mode": {
    "name": "ipython",
    "version": 3
   },
   "file_extension": ".py",
   "mimetype": "text/x-python",
   "name": "python",
   "nbconvert_exporter": "python",
   "pygments_lexer": "ipython3",
   "version": "3.8.3"
  }
 },
 "nbformat": 4,
 "nbformat_minor": 4
}
